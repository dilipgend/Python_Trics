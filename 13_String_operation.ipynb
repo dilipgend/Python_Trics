{
 "cells": [
  {
   "cell_type": "code",
   "execution_count": 15,
   "id": "409c2c50",
   "metadata": {},
   "outputs": [],
   "source": [
    "a = \"Dilip Dasharath Gend\""
   ]
  },
  {
   "cell_type": "code",
   "execution_count": 5,
   "id": "d5e0296a",
   "metadata": {},
   "outputs": [],
   "source": [
    "b = a[5:10]"
   ]
  },
  {
   "cell_type": "code",
   "execution_count": 6,
   "id": "f65d76fb",
   "metadata": {},
   "outputs": [
    {
     "data": {
      "text/plain": [
       "' Gend'"
      ]
     },
     "execution_count": 6,
     "metadata": {},
     "output_type": "execute_result"
    }
   ],
   "source": [
    "b"
   ]
  },
  {
   "cell_type": "code",
   "execution_count": 9,
   "id": "86082cea",
   "metadata": {},
   "outputs": [
    {
     "data": {
      "text/plain": [
       "'Dasharath Gend'"
      ]
     },
     "execution_count": 9,
     "metadata": {},
     "output_type": "execute_result"
    }
   ],
   "source": [
    "\"Dasharath\"+ b"
   ]
  },
  {
   "cell_type": "code",
   "execution_count": 16,
   "id": "9753248a",
   "metadata": {},
   "outputs": [],
   "source": [
    "x=a+\" I am a student\""
   ]
  },
  {
   "cell_type": "code",
   "execution_count": 17,
   "id": "a3bfdf81",
   "metadata": {},
   "outputs": [
    {
     "data": {
      "text/plain": [
       "'Dilip Dasharath Gend I am a student'"
      ]
     },
     "execution_count": 17,
     "metadata": {},
     "output_type": "execute_result"
    }
   ],
   "source": [
    "x"
   ]
  },
  {
   "cell_type": "code",
   "execution_count": 18,
   "id": "f77a24cd",
   "metadata": {},
   "outputs": [],
   "source": [
    "letter = \"x\""
   ]
  },
  {
   "cell_type": "code",
   "execution_count": 19,
   "id": "8dca86ca",
   "metadata": {},
   "outputs": [
    {
     "data": {
      "text/plain": [
       "'xxxxxxxxxxxx'"
      ]
     },
     "execution_count": 19,
     "metadata": {},
     "output_type": "execute_result"
    }
   ],
   "source": [
    "letter *12"
   ]
  },
  {
   "cell_type": "code",
   "execution_count": 20,
   "id": "348d8dd3",
   "metadata": {},
   "outputs": [
    {
     "data": {
      "text/plain": [
       "'25'"
      ]
     },
     "execution_count": 20,
     "metadata": {},
     "output_type": "execute_result"
    }
   ],
   "source": [
    "\"2\"+\"5\""
   ]
  },
  {
   "cell_type": "code",
   "execution_count": 21,
   "id": "30e4df08",
   "metadata": {},
   "outputs": [
    {
     "data": {
      "text/plain": [
       "7"
      ]
     },
     "execution_count": 21,
     "metadata": {},
     "output_type": "execute_result"
    }
   ],
   "source": [
    "2+5"
   ]
  },
  {
   "cell_type": "code",
   "execution_count": 22,
   "id": "f7fa36c6",
   "metadata": {},
   "outputs": [],
   "source": [
    "x= \"Hello World\""
   ]
  },
  {
   "cell_type": "code",
   "execution_count": 24,
   "id": "d38781ce",
   "metadata": {},
   "outputs": [
    {
     "data": {
      "text/plain": [
       "'HELLO WORLD'"
      ]
     },
     "execution_count": 24,
     "metadata": {},
     "output_type": "execute_result"
    }
   ],
   "source": [
    "x.upper()"
   ]
  },
  {
   "cell_type": "code",
   "execution_count": 26,
   "id": "67444ce9",
   "metadata": {},
   "outputs": [
    {
     "data": {
      "text/plain": [
       "'hello world'"
      ]
     },
     "execution_count": 26,
     "metadata": {},
     "output_type": "execute_result"
    }
   ],
   "source": [
    "x.lower()"
   ]
  },
  {
   "cell_type": "code",
   "execution_count": 27,
   "id": "b1e0ad53",
   "metadata": {},
   "outputs": [
    {
     "data": {
      "text/plain": [
       "'Hello World'"
      ]
     },
     "execution_count": 27,
     "metadata": {},
     "output_type": "execute_result"
    }
   ],
   "source": [
    "x"
   ]
  },
  {
   "cell_type": "code",
   "execution_count": 28,
   "id": "85528cf2",
   "metadata": {},
   "outputs": [
    {
     "data": {
      "text/plain": [
       "<function str.upper()>"
      ]
     },
     "execution_count": 28,
     "metadata": {},
     "output_type": "execute_result"
    }
   ],
   "source": [
    "x.upper"
   ]
  },
  {
   "cell_type": "code",
   "execution_count": 29,
   "id": "ba111997",
   "metadata": {},
   "outputs": [
    {
     "data": {
      "text/plain": [
       "['Hello', 'World']"
      ]
     },
     "execution_count": 29,
     "metadata": {},
     "output_type": "execute_result"
    }
   ],
   "source": [
    "x.split()"
   ]
  },
  {
   "cell_type": "code",
   "execution_count": 30,
   "id": "b5dbc47b",
   "metadata": {},
   "outputs": [],
   "source": [
    "x = \"hi this is a string\""
   ]
  },
  {
   "cell_type": "code",
   "execution_count": 34,
   "id": "fa8ef3de",
   "metadata": {},
   "outputs": [
    {
     "data": {
      "text/plain": [
       "['h', ' th', 's ', 's a str', 'ng']"
      ]
     },
     "execution_count": 34,
     "metadata": {},
     "output_type": "execute_result"
    }
   ],
   "source": [
    "x.split(\"i\")"
   ]
  },
  {
   "cell_type": "code",
   "execution_count": 35,
   "id": "b63d8382",
   "metadata": {},
   "outputs": [
    {
     "data": {
      "text/plain": [
       "['hi', 'this', 'is', 'a', 'string']"
      ]
     },
     "execution_count": 35,
     "metadata": {},
     "output_type": "execute_result"
    }
   ],
   "source": [
    "x.split()"
   ]
  },
  {
   "cell_type": "code",
   "execution_count": null,
   "id": "270f56fe",
   "metadata": {},
   "outputs": [],
   "source": []
  }
 ],
 "metadata": {
  "kernelspec": {
   "display_name": "Python 3 (ipykernel)",
   "language": "python",
   "name": "python3"
  },
  "language_info": {
   "codemirror_mode": {
    "name": "ipython",
    "version": 3
   },
   "file_extension": ".py",
   "mimetype": "text/x-python",
   "name": "python",
   "nbconvert_exporter": "python",
   "pygments_lexer": "ipython3",
   "version": "3.9.12"
  }
 },
 "nbformat": 4,
 "nbformat_minor": 5
}
