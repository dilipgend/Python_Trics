{
 "cells": [
  {
   "cell_type": "code",
   "execution_count": 1,
   "id": "fc7c0ab4",
   "metadata": {},
   "outputs": [],
   "source": [
    "import re"
   ]
  },
  {
   "cell_type": "code",
   "execution_count": 2,
   "id": "79dcf534",
   "metadata": {},
   "outputs": [],
   "source": [
    "text = \"my phone number is 408-555-7777 \""
   ]
  },
  {
   "cell_type": "code",
   "execution_count": 3,
   "id": "b4ad66cd",
   "metadata": {},
   "outputs": [],
   "source": [
    "phone = re.search(r\"\\d{3}-\\d{3}-\\d{4}\",text)"
   ]
  },
  {
   "cell_type": "code",
   "execution_count": 4,
   "id": "abca16f8",
   "metadata": {},
   "outputs": [
    {
     "data": {
      "text/plain": [
       "<re.Match object; span=(19, 31), match='408-555-7777'>"
      ]
     },
     "execution_count": 4,
     "metadata": {},
     "output_type": "execute_result"
    }
   ],
   "source": [
    "phone"
   ]
  },
  {
   "cell_type": "code",
   "execution_count": 5,
   "id": "0fbeec72",
   "metadata": {},
   "outputs": [],
   "source": [
    "phone = re.search(r\"\\d\\d\\d-\\d\\d\\d-\\d\\d\\d\\d\",text)"
   ]
  },
  {
   "cell_type": "code",
   "execution_count": 6,
   "id": "a23f92dc",
   "metadata": {},
   "outputs": [
    {
     "data": {
      "text/plain": [
       "<re.Match object; span=(19, 31), match='408-555-7777'>"
      ]
     },
     "execution_count": 6,
     "metadata": {},
     "output_type": "execute_result"
    }
   ],
   "source": [
    "phone"
   ]
  },
  {
   "cell_type": "code",
   "execution_count": 17,
   "id": "7dce3f1a",
   "metadata": {},
   "outputs": [],
   "source": [
    "phone_pattern = re.compile(r\"(\\d{3})-(\\d{3})-(\\d{4})\")"
   ]
  },
  {
   "cell_type": "code",
   "execution_count": 18,
   "id": "489893da",
   "metadata": {},
   "outputs": [],
   "source": [
    "result = re.search(phone_pattern,text)"
   ]
  },
  {
   "cell_type": "raw",
   "id": "91f58622",
   "metadata": {},
   "source": []
  },
  {
   "cell_type": "code",
   "execution_count": 19,
   "id": "c8e77e73",
   "metadata": {},
   "outputs": [
    {
     "data": {
      "text/plain": [
       "'408-555-7777'"
      ]
     },
     "execution_count": 19,
     "metadata": {},
     "output_type": "execute_result"
    }
   ],
   "source": [
    "result.group()"
   ]
  },
  {
   "cell_type": "code",
   "execution_count": 20,
   "id": "ce07a841",
   "metadata": {},
   "outputs": [
    {
     "data": {
      "text/plain": [
       "'408'"
      ]
     },
     "execution_count": 20,
     "metadata": {},
     "output_type": "execute_result"
    }
   ],
   "source": [
    "result.group(1)"
   ]
  },
  {
   "cell_type": "code",
   "execution_count": 21,
   "id": "d01ccc31",
   "metadata": {},
   "outputs": [
    {
     "data": {
      "text/plain": [
       "'555'"
      ]
     },
     "execution_count": 21,
     "metadata": {},
     "output_type": "execute_result"
    }
   ],
   "source": [
    "result.group(2)"
   ]
  },
  {
   "cell_type": "code",
   "execution_count": 22,
   "id": "d27df5c7",
   "metadata": {},
   "outputs": [
    {
     "data": {
      "text/plain": [
       "'7777'"
      ]
     },
     "execution_count": 22,
     "metadata": {},
     "output_type": "execute_result"
    }
   ],
   "source": [
    "result.group(3)"
   ]
  },
  {
   "cell_type": "code",
   "execution_count": null,
   "id": "4efcbbe5",
   "metadata": {},
   "outputs": [],
   "source": []
  }
 ],
 "metadata": {
  "kernelspec": {
   "display_name": "Python 3 (ipykernel)",
   "language": "python",
   "name": "python3"
  },
  "language_info": {
   "codemirror_mode": {
    "name": "ipython",
    "version": 3
   },
   "file_extension": ".py",
   "mimetype": "text/x-python",
   "name": "python",
   "nbconvert_exporter": "python",
   "pygments_lexer": "ipython3",
   "version": "3.9.12"
  }
 },
 "nbformat": 4,
 "nbformat_minor": 5
}
