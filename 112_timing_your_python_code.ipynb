{
 "cells": [
  {
   "cell_type": "code",
   "execution_count": 1,
   "id": "a8bd8665",
   "metadata": {},
   "outputs": [
    {
     "data": {
      "text/plain": [
       "10"
      ]
     },
     "execution_count": 1,
     "metadata": {},
     "output_type": "execute_result"
    }
   ],
   "source": [
    "10"
   ]
  },
  {
   "cell_type": "code",
   "execution_count": 2,
   "id": "cc75b157",
   "metadata": {},
   "outputs": [
    {
     "data": {
      "text/plain": [
       "3"
      ]
     },
     "execution_count": 2,
     "metadata": {},
     "output_type": "execute_result"
    }
   ],
   "source": [
    "3"
   ]
  },
  {
   "cell_type": "code",
   "execution_count": 3,
   "id": "5dca0abd",
   "metadata": {},
   "outputs": [
    {
     "data": {
      "text/plain": [
       "['1', '2', '3']"
      ]
     },
     "execution_count": 3,
     "metadata": {},
     "output_type": "execute_result"
    }
   ],
   "source": [
    "[\"1\",\"2\",\"3\"]"
   ]
  },
  {
   "cell_type": "code",
   "execution_count": null,
   "id": "30dcab77",
   "metadata": {},
   "outputs": [],
   "source": []
  },
  {
   "cell_type": "code",
   "execution_count": 5,
   "id": "29c7a075",
   "metadata": {},
   "outputs": [],
   "source": [
    "def func_one(n):\n",
    "    return[str(num) for num in range(n)]\n",
    "    "
   ]
  },
  {
   "cell_type": "code",
   "execution_count": 7,
   "id": "4a71ff81",
   "metadata": {},
   "outputs": [
    {
     "data": {
      "text/plain": [
       "['0', '1', '2', '3', '4', '5', '6', '7', '8', '9']"
      ]
     },
     "execution_count": 7,
     "metadata": {},
     "output_type": "execute_result"
    }
   ],
   "source": [
    "func_one(10)"
   ]
  },
  {
   "cell_type": "code",
   "execution_count": 21,
   "id": "883792f4",
   "metadata": {},
   "outputs": [],
   "source": [
    "def func_two(n):\n",
    "    return[str(num) for num in range(n)]"
   ]
  },
  {
   "cell_type": "code",
   "execution_count": 22,
   "id": "fb74e5c0",
   "metadata": {},
   "outputs": [
    {
     "data": {
      "text/plain": [
       "['0', '1', '2', '3', '4', '5', '6', '7', '8', '9']"
      ]
     },
     "execution_count": 22,
     "metadata": {},
     "output_type": "execute_result"
    }
   ],
   "source": [
    "func_two(10)"
   ]
  },
  {
   "cell_type": "code",
   "execution_count": 23,
   "id": "89dc97d4",
   "metadata": {},
   "outputs": [],
   "source": [
    "import time"
   ]
  },
  {
   "cell_type": "code",
   "execution_count": 31,
   "id": "42519b93",
   "metadata": {},
   "outputs": [
    {
     "name": "stdout",
     "output_type": "stream",
     "text": [
      "0.0\n"
     ]
    }
   ],
   "source": [
    "start_time = time.time()\n",
    "\n",
    "result = func_one(100)\n",
    "\n",
    "end_time = time.time()\n",
    "\n",
    "elapsed_time = end_time - start_time\n",
    "\n",
    "print(elapsed_time)"
   ]
  },
  {
   "cell_type": "code",
   "execution_count": 32,
   "id": "13775366",
   "metadata": {},
   "outputs": [
    {
     "name": "stdout",
     "output_type": "stream",
     "text": [
      "0.0\n"
     ]
    }
   ],
   "source": [
    "start_time = time.time()\n",
    "\n",
    "result = func_two(100)\n",
    "\n",
    "end_time = time.time()\n",
    "\n",
    "elapsed_time = end_time - start_time\n",
    "\n",
    "print(elapsed_time)"
   ]
  },
  {
   "cell_type": "code",
   "execution_count": null,
   "id": "cf4bc036",
   "metadata": {},
   "outputs": [],
   "source": []
  },
  {
   "cell_type": "code",
   "execution_count": 33,
   "id": "8c0dc70b",
   "metadata": {},
   "outputs": [],
   "source": [
    "import timeit"
   ]
  },
  {
   "cell_type": "code",
   "execution_count": 34,
   "id": "354357c0",
   "metadata": {},
   "outputs": [
    {
     "data": {
      "text/plain": [
       "<function timeit.timeit(stmt='pass', setup='pass', timer=<built-in function perf_counter>, number=1000000, globals=None)>"
      ]
     },
     "execution_count": 34,
     "metadata": {},
     "output_type": "execute_result"
    }
   ],
   "source": [
    "timeit.timeit"
   ]
  },
  {
   "cell_type": "code",
   "execution_count": 30,
   "id": "77220a39",
   "metadata": {},
   "outputs": [],
   "source": [
    "stmt = '''\n",
    "func_one(100)\n",
    "'''"
   ]
  },
  {
   "cell_type": "code",
   "execution_count": 35,
   "id": "2e0716c6",
   "metadata": {},
   "outputs": [],
   "source": [
    "setup = '''\n",
    "def func_one(n):\n",
    "    return[str(num) for num in range(n)]\n",
    "'''"
   ]
  },
  {
   "cell_type": "code",
   "execution_count": 37,
   "id": "ab0c9dc5",
   "metadata": {},
   "outputs": [
    {
     "data": {
      "text/plain": [
       "1.0506047999999737"
      ]
     },
     "execution_count": 37,
     "metadata": {},
     "output_type": "execute_result"
    }
   ],
   "source": [
    "timeit.timeit(stmt,setup,number=100000)"
   ]
  },
  {
   "cell_type": "code",
   "execution_count": 40,
   "id": "daeff7ad",
   "metadata": {},
   "outputs": [],
   "source": [
    "stmt2 = '''\n",
    "func_two(100)\n",
    "'''"
   ]
  },
  {
   "cell_type": "code",
   "execution_count": 41,
   "id": "e99bdf70",
   "metadata": {},
   "outputs": [],
   "source": [
    "setup2 = '''\n",
    "def func_two(n):\n",
    "    return[str(num) for num in range(n)]\n",
    "'''"
   ]
  },
  {
   "cell_type": "code",
   "execution_count": 42,
   "id": "bf49532a",
   "metadata": {},
   "outputs": [
    {
     "data": {
      "text/plain": [
       "1.0596433000000616"
      ]
     },
     "execution_count": 42,
     "metadata": {},
     "output_type": "execute_result"
    }
   ],
   "source": [
    "timeit.timeit(stmt2,setup2,number=100000)"
   ]
  },
  {
   "cell_type": "code",
   "execution_count": 43,
   "id": "793c69e6",
   "metadata": {},
   "outputs": [
    {
     "name": "stdout",
     "output_type": "stream",
     "text": [
      "13 µs ± 1.61 µs per loop (mean ± std. dev. of 7 runs, 100,000 loops each)\n"
     ]
    }
   ],
   "source": [
    "%%timeit\n",
    "func_one(100)"
   ]
  },
  {
   "cell_type": "code",
   "execution_count": 44,
   "id": "d4dd65e1",
   "metadata": {},
   "outputs": [
    {
     "name": "stdout",
     "output_type": "stream",
     "text": [
      "11.9 µs ± 1.32 µs per loop (mean ± std. dev. of 7 runs, 100,000 loops each)\n"
     ]
    }
   ],
   "source": [
    "%%timeit\n",
    "func_two(100)"
   ]
  },
  {
   "cell_type": "code",
   "execution_count": null,
   "id": "69c7fd90",
   "metadata": {},
   "outputs": [],
   "source": []
  }
 ],
 "metadata": {
  "kernelspec": {
   "display_name": "Python 3 (ipykernel)",
   "language": "python",
   "name": "python3"
  },
  "language_info": {
   "codemirror_mode": {
    "name": "ipython",
    "version": 3
   },
   "file_extension": ".py",
   "mimetype": "text/x-python",
   "name": "python",
   "nbconvert_exporter": "python",
   "pygments_lexer": "ipython3",
   "version": "3.9.12"
  }
 },
 "nbformat": 4,
 "nbformat_minor": 5
}
