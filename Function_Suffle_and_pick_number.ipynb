{
 "cells": [
  {
   "cell_type": "code",
   "execution_count": 1,
   "id": "8ad14b6e",
   "metadata": {},
   "outputs": [],
   "source": [
    "marks = [5,6,8,3,8,5]"
   ]
  },
  {
   "cell_type": "code",
   "execution_count": 2,
   "id": "c13cae72",
   "metadata": {},
   "outputs": [],
   "source": [
    "from random import shuffle"
   ]
  },
  {
   "cell_type": "code",
   "execution_count": 3,
   "id": "ade590e1",
   "metadata": {},
   "outputs": [],
   "source": [
    "shuffle(marks)"
   ]
  },
  {
   "cell_type": "code",
   "execution_count": 14,
   "id": "26a801b7",
   "metadata": {},
   "outputs": [
    {
     "data": {
      "text/plain": [
       "[3, 8, 8, 5, 6, 5]"
      ]
     },
     "execution_count": 14,
     "metadata": {},
     "output_type": "execute_result"
    }
   ],
   "source": [
    "marks"
   ]
  },
  {
   "cell_type": "code",
   "execution_count": 15,
   "id": "920139d4",
   "metadata": {},
   "outputs": [],
   "source": [
    "result = shuffle(marks)"
   ]
  },
  {
   "cell_type": "code",
   "execution_count": 16,
   "id": "b6f5f6c6",
   "metadata": {},
   "outputs": [],
   "source": [
    "result"
   ]
  },
  {
   "cell_type": "code",
   "execution_count": 17,
   "id": "0fa38f06",
   "metadata": {},
   "outputs": [],
   "source": [
    "def shuffle_list(mylist):\n",
    "    shuffle(mylist)\n",
    "    return mylist"
   ]
  },
  {
   "cell_type": "raw",
   "id": "7b4ffd24",
   "metadata": {},
   "source": [
    "result = shuffle_list(marks)"
   ]
  },
  {
   "cell_type": "code",
   "execution_count": 18,
   "id": "9261d048",
   "metadata": {},
   "outputs": [],
   "source": [
    "result"
   ]
  },
  {
   "cell_type": "code",
   "execution_count": 19,
   "id": "9f87e024",
   "metadata": {},
   "outputs": [],
   "source": [
    "mylist = [\" \",\"2\",\"3\"]"
   ]
  },
  {
   "cell_type": "code",
   "execution_count": 20,
   "id": "7871c314",
   "metadata": {},
   "outputs": [
    {
     "data": {
      "text/plain": [
       "['3', '2', ' ']"
      ]
     },
     "execution_count": 20,
     "metadata": {},
     "output_type": "execute_result"
    }
   ],
   "source": [
    "shuffle_list(mylist)"
   ]
  },
  {
   "cell_type": "code",
   "execution_count": 21,
   "id": "edd5057d",
   "metadata": {},
   "outputs": [
    {
     "data": {
      "text/plain": [
       "['2', ' ', '3']"
      ]
     },
     "execution_count": 21,
     "metadata": {},
     "output_type": "execute_result"
    }
   ],
   "source": [
    "shuffle_list(mylist)"
   ]
  },
  {
   "cell_type": "code",
   "execution_count": 22,
   "id": "84fffbf4",
   "metadata": {},
   "outputs": [
    {
     "data": {
      "text/plain": [
       "[' ', '3', '2']"
      ]
     },
     "execution_count": 22,
     "metadata": {},
     "output_type": "execute_result"
    }
   ],
   "source": [
    "shuffle_list(mylist)"
   ]
  },
  {
   "cell_type": "code",
   "execution_count": 27,
   "id": "01ca1d93",
   "metadata": {},
   "outputs": [
    {
     "data": {
      "text/plain": [
       "['3', '2', ' ']"
      ]
     },
     "execution_count": 27,
     "metadata": {},
     "output_type": "execute_result"
    }
   ],
   "source": [
    "shuffle_list(mylist)"
   ]
  },
  {
   "cell_type": "code",
   "execution_count": 33,
   "id": "9d9e406d",
   "metadata": {},
   "outputs": [],
   "source": [
    "def player_guess():\n",
    "    \n",
    "    guess=\"\"\n",
    "    \n",
    "    while guess not in [\"0\",\"2\",\"3\"]:\n",
    "        guess = input(\"pick a number : 0,1, or 2, \")\n",
    "        \n",
    "    return int(guess)\n",
    "    "
   ]
  },
  {
   "cell_type": "code",
   "execution_count": 35,
   "id": "eee73d2b",
   "metadata": {},
   "outputs": [
    {
     "name": "stdout",
     "output_type": "stream",
     "text": [
      "pick a number : 0,1, or 2, 1\n",
      "pick a number : 0,1, or 2, 8\n",
      "pick a number : 0,1, or 2, 5\n",
      "pick a number : 0,1, or 2, 2\n"
     ]
    },
    {
     "data": {
      "text/plain": [
       "2"
      ]
     },
     "execution_count": 35,
     "metadata": {},
     "output_type": "execute_result"
    }
   ],
   "source": [
    "player_guess()"
   ]
  },
  {
   "cell_type": "code",
   "execution_count": 36,
   "id": "f5c712e4",
   "metadata": {},
   "outputs": [],
   "source": [
    "def check_guess(mylist,guess):\n",
    "    if mylist[guess]==\"o\":\n",
    "        print(\"correct!\")\n",
    "    \n",
    "    else:\n",
    "        print(\"wrong guess!\")\n",
    "        print(mylist)"
   ]
  },
  {
   "cell_type": "code",
   "execution_count": 39,
   "id": "00148887",
   "metadata": {},
   "outputs": [
    {
     "name": "stdout",
     "output_type": "stream",
     "text": [
      "pick a number : 0,1, or 2, 2\n",
      "correct!\n"
     ]
    }
   ],
   "source": [
    "#INITIAL LIST\n",
    "mylist =[\" \",\"o\",\" \"]\n",
    "\n",
    "#SHUFFLE LIST\n",
    "mixedup_list = shuffle_list(mylist)\n",
    "\n",
    "#USER GUESS\n",
    "guess = player_guess()\n",
    "\n",
    "#CHECK GUESS\n",
    "check_guess(mixedup_list,guess)"
   ]
  },
  {
   "cell_type": "code",
   "execution_count": null,
   "id": "72d498b7",
   "metadata": {},
   "outputs": [],
   "source": []
  }
 ],
 "metadata": {
  "kernelspec": {
   "display_name": "Python 3 (ipykernel)",
   "language": "python",
   "name": "python3"
  },
  "language_info": {
   "codemirror_mode": {
    "name": "ipython",
    "version": 3
   },
   "file_extension": ".py",
   "mimetype": "text/x-python",
   "name": "python",
   "nbconvert_exporter": "python",
   "pygments_lexer": "ipython3",
   "version": "3.9.12"
  }
 },
 "nbformat": 4,
 "nbformat_minor": 5
}
