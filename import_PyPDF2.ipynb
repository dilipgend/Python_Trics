{
 "cells": [
  {
   "cell_type": "code",
   "execution_count": 1,
   "id": "17c80fbf",
   "metadata": {},
   "outputs": [],
   "source": [
    "import PyPDF2"
   ]
  },
  {
   "cell_type": "code",
   "execution_count": 2,
   "id": "196dd2a0",
   "metadata": {},
   "outputs": [],
   "source": [
    "f = open('cirtificate.pdf','rb')"
   ]
  },
  {
   "cell_type": "code",
   "execution_count": 4,
   "id": "4b612a35",
   "metadata": {},
   "outputs": [],
   "source": [
    "pdf_reader = PyPDF2.PdfFileReader(f)"
   ]
  },
  {
   "cell_type": "code",
   "execution_count": 5,
   "id": "753027dd",
   "metadata": {},
   "outputs": [
    {
     "data": {
      "text/plain": [
       "1"
      ]
     },
     "execution_count": 5,
     "metadata": {},
     "output_type": "execute_result"
    }
   ],
   "source": [
    "pdf_reader.numPages"
   ]
  },
  {
   "cell_type": "code",
   "execution_count": 7,
   "id": "9bdc6577",
   "metadata": {},
   "outputs": [],
   "source": [
    "page_one = pdf_reader.getPage(0)"
   ]
  },
  {
   "cell_type": "code",
   "execution_count": 8,
   "id": "e5ca157c",
   "metadata": {},
   "outputs": [],
   "source": [
    "page_one_text = page_one.extractText()"
   ]
  },
  {
   "cell_type": "code",
   "execution_count": 9,
   "id": "d2b91f35",
   "metadata": {},
   "outputs": [
    {
     "data": {
      "text/plain": [
       "'2022961501149\\nयह \\ue2a2माणप\\ue2a1\\nMR. GEND DILIP DASHARATH\\nको “ हाइपर\\ue225पे\\ue20dट\\ue1e3ल और माइ\\ue29fोवेव सुदू र संवेदी तकनीकों \\ue258ारा भूवै\\ue20bािनक अ\\ue218ययन ”\\nमे ऑनलाईन पाठ\\ue778\\ue952म म \\ue771  भाग लेने पर \\ue955दान िकया जाता है।\\nइस ऑनलाइन पाठ\\ue778\\ue952म का आयोजन 07 माच\\ue1e2, 2022 से 17 माच\\ue1e2, 2022 ( क ु ल पाठ\\ue1de\\ue29fम की अविध = 13 घंट े  30 िमनट )  क े  दौरान िकया गया।\\n(संबि\\ue8ccधत आई.आई.आर.एस नोडल क \\ue771 द \\ue777 -  जे एस एस अकादमी ऑफ हायर एड ु क े शन एंड िरसच\\ue1e2, मैसू\\ue2aa)\\nTHIS CERTIFICATE IS\\nAWARDED TO\\nMR. GEND DILIP DASHARATH\\nON HAVING PARTICIPATED IN THE ONLINE COURSE ON\\n“Hyperspectral And Microwave Remote Sensing Techniques For Geological Studies”\\nTHIS ONLINE COURSE WAS CONDUCTED DURING 07-03-2022 to 17-03-2022  ( Total course duration was = 13 hours\\nand 30 minutes ).\\n(Concerned IIRS Nodal Centre-  JSS ACADEMY OF HIGHER EDUCATION & RESEARCH, MYSURU)\\n30-03-2022\\n7a62a7015226d6a56e2baca4ef193635 .This Certiﬁcate can be validated using URL- https://certiﬁcate.iirs.gov.in'"
      ]
     },
     "execution_count": 9,
     "metadata": {},
     "output_type": "execute_result"
    }
   ],
   "source": [
    "page_one_text"
   ]
  },
  {
   "cell_type": "code",
   "execution_count": 10,
   "id": "24e5840d",
   "metadata": {},
   "outputs": [],
   "source": [
    "f.close()"
   ]
  },
  {
   "cell_type": "code",
   "execution_count": 11,
   "id": "5670af42",
   "metadata": {},
   "outputs": [],
   "source": [
    "f = open('cirtificate.pdf','rb')\n",
    "pdf_reader = PyPDF2.PdfFileReader(f)"
   ]
  },
  {
   "cell_type": "code",
   "execution_count": 13,
   "id": "5607de26",
   "metadata": {},
   "outputs": [],
   "source": [
    "first_page = pdf_reader.getPage(0)"
   ]
  },
  {
   "cell_type": "code",
   "execution_count": 14,
   "id": "f1bdda42",
   "metadata": {},
   "outputs": [],
   "source": [
    "pdf_writer = PyPDF2.PdfFileWriter()"
   ]
  },
  {
   "cell_type": "code",
   "execution_count": 15,
   "id": "7c6ce701",
   "metadata": {},
   "outputs": [
    {
     "data": {
      "text/plain": [
       "PyPDF2._page.PageObject"
      ]
     },
     "execution_count": 15,
     "metadata": {},
     "output_type": "execute_result"
    }
   ],
   "source": [
    "type(first_page)"
   ]
  },
  {
   "cell_type": "code",
   "execution_count": 17,
   "id": "8c933cf7",
   "metadata": {},
   "outputs": [],
   "source": [
    "pdf_writer.addPage(first_page)"
   ]
  },
  {
   "cell_type": "code",
   "execution_count": 18,
   "id": "860cf128",
   "metadata": {},
   "outputs": [],
   "source": [
    "pdf_output = open(\"some_new_doc\",'wb')"
   ]
  },
  {
   "cell_type": "code",
   "execution_count": 19,
   "id": "88e56231",
   "metadata": {},
   "outputs": [
    {
     "data": {
      "text/plain": [
       "(False, <_io.BufferedWriter name='some_new_doc'>)"
      ]
     },
     "execution_count": 19,
     "metadata": {},
     "output_type": "execute_result"
    }
   ],
   "source": [
    "pdf_writer.write(pdf_output)"
   ]
  },
  {
   "cell_type": "code",
   "execution_count": 20,
   "id": "e8b98440",
   "metadata": {},
   "outputs": [],
   "source": [
    "f.close()"
   ]
  },
  {
   "cell_type": "code",
   "execution_count": 21,
   "id": "6b00ab37",
   "metadata": {},
   "outputs": [],
   "source": [
    "pdf_output.close()"
   ]
  },
  {
   "cell_type": "code",
   "execution_count": null,
   "id": "1746191d",
   "metadata": {},
   "outputs": [],
   "source": [
    "f = open"
   ]
  }
 ],
 "metadata": {
  "kernelspec": {
   "display_name": "Python 3 (ipykernel)",
   "language": "python",
   "name": "python3"
  },
  "language_info": {
   "codemirror_mode": {
    "name": "ipython",
    "version": 3
   },
   "file_extension": ".py",
   "mimetype": "text/x-python",
   "name": "python",
   "nbconvert_exporter": "python",
   "pygments_lexer": "ipython3",
   "version": "3.9.12"
  }
 },
 "nbformat": 4,
 "nbformat_minor": 5
}
