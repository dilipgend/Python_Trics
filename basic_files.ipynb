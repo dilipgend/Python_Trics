{
 "cells": [
  {
   "cell_type": "code",
   "execution_count": 12,
   "id": "9b7f2e3c",
   "metadata": {},
   "outputs": [
    {
     "name": "stdout",
     "output_type": "stream",
     "text": [
      "Overwriting basic_files.txt\n"
     ]
    }
   ],
   "source": [
    "%%writefile basic_files.txt\n",
    "    I am Dilip Dasharath Gend \n",
    "    MSc geoinformatics student \n",
    "    I got BA. Geography degree\n",
    "    I learn python  python gis\n",
    "    "
   ]
  },
  {
   "cell_type": "code",
   "execution_count": 5,
   "id": "d6b9051d",
   "metadata": {},
   "outputs": [],
   "source": [
    "basic_files = open(\"basic_files.txt\")"
   ]
  },
  {
   "cell_type": "code",
   "execution_count": 6,
   "id": "49196196",
   "metadata": {},
   "outputs": [
    {
     "data": {
      "text/plain": [
       "'C:\\\\Users\\\\DILIP DASHARATH'"
      ]
     },
     "execution_count": 6,
     "metadata": {},
     "output_type": "execute_result"
    }
   ],
   "source": [
    "pwd"
   ]
  },
  {
   "cell_type": "code",
   "execution_count": 7,
   "id": "efc62a56",
   "metadata": {},
   "outputs": [
    {
     "ename": "NameError",
     "evalue": "name 'basic_file' is not defined",
     "output_type": "error",
     "traceback": [
      "\u001b[1;31m---------------------------------------------------------------------------\u001b[0m",
      "\u001b[1;31mNameError\u001b[0m                                 Traceback (most recent call last)",
      "Input \u001b[1;32mIn [7]\u001b[0m, in \u001b[0;36m<cell line: 1>\u001b[1;34m()\u001b[0m\n\u001b[1;32m----> 1\u001b[0m \u001b[43mbasic_file\u001b[49m\u001b[38;5;241m.\u001b[39mread()\n",
      "\u001b[1;31mNameError\u001b[0m: name 'basic_file' is not defined"
     ]
    }
   ],
   "source": []
  },
  {
   "cell_type": "code",
   "execution_count": 13,
   "id": "36bb9adf",
   "metadata": {},
   "outputs": [],
   "source": [
    "basic_files = open(\"basic_files.txt\")"
   ]
  },
  {
   "cell_type": "code",
   "execution_count": 14,
   "id": "65b56bbd",
   "metadata": {},
   "outputs": [
    {
     "data": {
      "text/plain": [
       "'    I am Dilip Dasharath Gend \\n    MSc geoinformatics student \\n    I got BA. Geography degree\\n    I learn python  python gis\\n    \\n'"
      ]
     },
     "execution_count": 14,
     "metadata": {},
     "output_type": "execute_result"
    }
   ],
   "source": [
    "basic_files.read()"
   ]
  },
  {
   "cell_type": "code",
   "execution_count": 15,
   "id": "1e3c3b49",
   "metadata": {},
   "outputs": [
    {
     "data": {
      "text/plain": [
       "0"
      ]
     },
     "execution_count": 15,
     "metadata": {},
     "output_type": "execute_result"
    }
   ],
   "source": [
    "basic_files.seek(0)"
   ]
  },
  {
   "cell_type": "code",
   "execution_count": 16,
   "id": "083321f3",
   "metadata": {},
   "outputs": [
    {
     "data": {
      "text/plain": [
       "['    I am Dilip Dasharath Gend \\n',\n",
       " '    MSc geoinformatics student \\n',\n",
       " '    I got BA. Geography degree\\n',\n",
       " '    I learn python  python gis\\n',\n",
       " '    \\n']"
      ]
     },
     "execution_count": 16,
     "metadata": {},
     "output_type": "execute_result"
    }
   ],
   "source": [
    "basic_files.readlines()"
   ]
  },
  {
   "cell_type": "code",
   "execution_count": 17,
   "id": "5d4d1901",
   "metadata": {},
   "outputs": [
    {
     "data": {
      "text/plain": [
       "'C:\\\\Users\\\\DILIP DASHARATH'"
      ]
     },
     "execution_count": 17,
     "metadata": {},
     "output_type": "execute_result"
    }
   ],
   "source": [
    "pwd"
   ]
  },
  {
   "cell_type": "code",
   "execution_count": 18,
   "id": "a9a84f4e",
   "metadata": {},
   "outputs": [],
   "source": [
    "basic_files.close()"
   ]
  },
  {
   "cell_type": "code",
   "execution_count": 19,
   "id": "22200104",
   "metadata": {},
   "outputs": [],
   "source": [
    "basic_files = open(\"basic_files.txt\")"
   ]
  },
  {
   "cell_type": "code",
   "execution_count": 22,
   "id": "2ba195dd",
   "metadata": {},
   "outputs": [],
   "source": [
    "with open(\"basic_files.txt\") as basic_file_1:\n",
    "    contents = basic_file_1.read()"
   ]
  },
  {
   "cell_type": "code",
   "execution_count": 23,
   "id": "a5bf0138",
   "metadata": {},
   "outputs": [
    {
     "data": {
      "text/plain": [
       "'    I am Dilip Dasharath Gend \\n    MSc geoinformatics student \\n    I got BA. Geography degree\\n    I learn python  python gis\\n    \\n'"
      ]
     },
     "execution_count": 23,
     "metadata": {},
     "output_type": "execute_result"
    }
   ],
   "source": [
    "contents"
   ]
  },
  {
   "cell_type": "code",
   "execution_count": 25,
   "id": "d5a01e4a",
   "metadata": {},
   "outputs": [],
   "source": [
    "with open(\"basic_files.txt\",mode=\"r\") as basic_files:\n",
    "    contents = basic_files.read()"
   ]
  },
  {
   "cell_type": "code",
   "execution_count": 26,
   "id": "fdd9b903",
   "metadata": {},
   "outputs": [
    {
     "data": {
      "text/plain": [
       "'    I am Dilip Dasharath Gend \\n    MSc geoinformatics student \\n    I got BA. Geography degree\\n    I learn python  python gis\\n    \\n'"
      ]
     },
     "execution_count": 26,
     "metadata": {},
     "output_type": "execute_result"
    }
   ],
   "source": [
    "contents"
   ]
  },
  {
   "cell_type": "code",
   "execution_count": 27,
   "id": "582516a7",
   "metadata": {},
   "outputs": [
    {
     "name": "stdout",
     "output_type": "stream",
     "text": [
      "Writing basic_files_new.txt\n"
     ]
    }
   ],
   "source": [
    "%%writefile basic_files_new.txt\n",
    "    I am Dilip Dasharath Gend \n",
    "    MSc geoinformatics student \n",
    "    I got BA. Geography degree\n",
    "    I learn python  python gis"
   ]
  },
  {
   "cell_type": "code",
   "execution_count": 28,
   "id": "d8f226aa",
   "metadata": {},
   "outputs": [
    {
     "name": "stdout",
     "output_type": "stream",
     "text": [
      "    I am Dilip Dasharath Gend \n",
      "    MSc geoinformatics student \n",
      "    I got BA. Geography degree\n",
      "    I learn python  python gis\n",
      "\n"
     ]
    }
   ],
   "source": [
    "with open(\"basic_files_new.txt\",mode= \"r\") as f:\n",
    "    print(f.read())"
   ]
  },
  {
   "cell_type": "code",
   "execution_count": 29,
   "id": "76d0e063",
   "metadata": {},
   "outputs": [],
   "source": [
    "with open(\"basic_files_new.txt\",mode=\"a\")as f:\n",
    "    f.write(\"I am going to Gis developer\")"
   ]
  },
  {
   "cell_type": "code",
   "execution_count": 30,
   "id": "c5de7c18",
   "metadata": {},
   "outputs": [
    {
     "name": "stdout",
     "output_type": "stream",
     "text": [
      "    I am Dilip Dasharath Gend \n",
      "    MSc geoinformatics student \n",
      "    I got BA. Geography degree\n",
      "    I learn python  python gis\n",
      "I am going to Gis developer\n"
     ]
    }
   ],
   "source": [
    "with open(\"basic_files_new.txt\",mode= \"r\") as f:\n",
    "    print(f.read())"
   ]
  },
  {
   "cell_type": "code",
   "execution_count": 34,
   "id": "af25a772",
   "metadata": {},
   "outputs": [],
   "source": [
    "with open(\"myfile.txt\",mode = \"w\") as f:\n",
    "    f.write(\" I am Dilip Dasharath Gend MSc geoinformatics student  I got BA. Geography degreeI learn python  python gisI am going to Gis developer\")"
   ]
  },
  {
   "cell_type": "code",
   "execution_count": 35,
   "id": "2b56b83a",
   "metadata": {},
   "outputs": [
    {
     "name": "stdout",
     "output_type": "stream",
     "text": [
      " I am Dilip Dasharath Gend MSc geoinformatics student  I got BA. Geography degreeI learn python  python gisI am going to Gis developer\n"
     ]
    }
   ],
   "source": [
    "with open(\"myfile.txt\",mode = \"r\") as f:\n",
    "    print(f.read())"
   ]
  },
  {
   "cell_type": "code",
   "execution_count": null,
   "id": "bbc5ea32",
   "metadata": {},
   "outputs": [],
   "source": []
  }
 ],
 "metadata": {
  "kernelspec": {
   "display_name": "Python 3 (ipykernel)",
   "language": "python",
   "name": "python3"
  },
  "language_info": {
   "codemirror_mode": {
    "name": "ipython",
    "version": 3
   },
   "file_extension": ".py",
   "mimetype": "text/x-python",
   "name": "python",
   "nbconvert_exporter": "python",
   "pygments_lexer": "ipython3",
   "version": "3.9.12"
  }
 },
 "nbformat": 4,
 "nbformat_minor": 5
}
