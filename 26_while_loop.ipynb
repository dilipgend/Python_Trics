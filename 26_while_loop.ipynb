{
 "cells": [
  {
   "cell_type": "code",
   "execution_count": 1,
   "id": "b2784ce4",
   "metadata": {},
   "outputs": [
    {
     "name": "stdout",
     "output_type": "stream",
     "text": [
      "The current of x is  0\n",
      "The current of x is  1\n",
      "The current of x is  2\n",
      "The current of x is  3\n",
      "The current of x is  4\n",
      "The current of x is  5\n",
      "The current of x is  6\n",
      "The current of x is  7\n",
      "The current of x is  8\n",
      "The current of x is  9\n"
     ]
    }
   ],
   "source": [
    "x =0\n",
    "while x<10:\n",
    "    print(\"The current of x is \",x)\n",
    "    x = x+1"
   ]
  },
  {
   "cell_type": "code",
   "execution_count": 3,
   "id": "b06a8c25",
   "metadata": {},
   "outputs": [
    {
     "name": "stdout",
     "output_type": "stream",
     "text": [
      "0 Dilip\n",
      "1 Dilip\n",
      "2 Dilip\n",
      "3 Dilip\n",
      "4 Dilip\n"
     ]
    }
   ],
   "source": [
    "x =0\n",
    "z=\"Dilip\"\n",
    "while x<5:\n",
    "    print(x,z)\n",
    "    x=x+1\n",
    "    "
   ]
  },
  {
   "cell_type": "code",
   "execution_count": null,
   "id": "5bfeee77",
   "metadata": {},
   "outputs": [],
   "source": []
  }
 ],
 "metadata": {
  "kernelspec": {
   "display_name": "Python 3 (ipykernel)",
   "language": "python",
   "name": "python3"
  },
  "language_info": {
   "codemirror_mode": {
    "name": "ipython",
    "version": 3
   },
   "file_extension": ".py",
   "mimetype": "text/x-python",
   "name": "python",
   "nbconvert_exporter": "python",
   "pygments_lexer": "ipython3",
   "version": "3.9.12"
  }
 },
 "nbformat": 4,
 "nbformat_minor": 5
}
