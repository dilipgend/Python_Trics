{
 "cells": [
  {
   "cell_type": "code",
   "execution_count": 4,
   "id": "77fba64b",
   "metadata": {},
   "outputs": [],
   "source": [
    "string = \"Dilip\""
   ]
  },
  {
   "cell_type": "code",
   "execution_count": 6,
   "id": "3d4b2384",
   "metadata": {},
   "outputs": [],
   "source": [
    "list = []\n",
    "for letter in string:\n",
    "    list.append(letter)"
   ]
  },
  {
   "cell_type": "code",
   "execution_count": 7,
   "id": "7b8b5c2e",
   "metadata": {},
   "outputs": [
    {
     "data": {
      "text/plain": [
       "['D', 'i', 'l', 'i', 'p']"
      ]
     },
     "execution_count": 7,
     "metadata": {},
     "output_type": "execute_result"
    }
   ],
   "source": [
    "list"
   ]
  },
  {
   "cell_type": "code",
   "execution_count": null,
   "id": "7f59f690",
   "metadata": {},
   "outputs": [],
   "source": []
  }
 ],
 "metadata": {
  "kernelspec": {
   "display_name": "Python 3 (ipykernel)",
   "language": "python",
   "name": "python3"
  },
  "language_info": {
   "codemirror_mode": {
    "name": "ipython",
    "version": 3
   },
   "file_extension": ".py",
   "mimetype": "text/x-python",
   "name": "python",
   "nbconvert_exporter": "python",
   "pygments_lexer": "ipython3",
   "version": "3.9.12"
  }
 },
 "nbformat": 4,
 "nbformat_minor": 5
}
