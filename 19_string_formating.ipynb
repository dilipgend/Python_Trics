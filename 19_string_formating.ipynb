{
 "cells": [
  {
   "cell_type": "code",
   "execution_count": 1,
   "id": "c0e7fa83",
   "metadata": {},
   "outputs": [
    {
     "name": "stdout",
     "output_type": "stream",
     "text": [
      "this is a string inserted\n"
     ]
    }
   ],
   "source": [
    "print(\"this is a string {}\".format(\"inserted\"))"
   ]
  },
  {
   "cell_type": "code",
   "execution_count": 4,
   "id": "5ae2e168",
   "metadata": {},
   "outputs": [
    {
     "name": "stdout",
     "output_type": "stream",
     "text": [
      "this is a dog\n"
     ]
    }
   ],
   "source": [
    "print(\"this{} {} {}\".format(\" is\",\"a\",\"dog\"))"
   ]
  },
  {
   "cell_type": "code",
   "execution_count": 7,
   "id": "3a4d60d3",
   "metadata": {},
   "outputs": [
    {
     "name": "stdout",
     "output_type": "stream",
     "text": [
      "The fox is brown.\n"
     ]
    }
   ],
   "source": [
    "print(\"The {0} {2} {1}.\".format(\"fox\",\"brown\",\"is\"))"
   ]
  },
  {
   "cell_type": "code",
   "execution_count": 8,
   "id": "caa61270",
   "metadata": {},
   "outputs": [
    {
     "name": "stdout",
     "output_type": "stream",
     "text": [
      "The fox fox fox.\n"
     ]
    }
   ],
   "source": [
    "print(\"The {0} {0} {0}.\".format(\"fox\",\"brown\",\"is\"))"
   ]
  },
  {
   "cell_type": "code",
   "execution_count": 11,
   "id": "2ba72197",
   "metadata": {},
   "outputs": [
    {
     "name": "stdout",
     "output_type": "stream",
     "text": [
      "the fox is brown\n"
     ]
    }
   ],
   "source": [
    "print(\"the {f} {i} {b}\".format(f = \"fox\",b= \"brown\",i = \"is\"))"
   ]
  },
  {
   "cell_type": "code",
   "execution_count": 13,
   "id": "1ed92af8",
   "metadata": {},
   "outputs": [],
   "source": [
    "result = 100/888"
   ]
  },
  {
   "cell_type": "raw",
   "id": "f992e8e4",
   "metadata": {},
   "source": [
    "result"
   ]
  },
  {
   "cell_type": "code",
   "execution_count": 16,
   "id": "9f15c299",
   "metadata": {},
   "outputs": [
    {
     "data": {
      "text/plain": [
       "0.11261261261261261"
      ]
     },
     "execution_count": 16,
     "metadata": {},
     "output_type": "execute_result"
    }
   ],
   "source": [
    "result"
   ]
  },
  {
   "cell_type": "code",
   "execution_count": 20,
   "id": "b40d2753",
   "metadata": {},
   "outputs": [
    {
     "name": "stdout",
     "output_type": "stream",
     "text": [
      "the result was 0.11261261261261261\n"
     ]
    }
   ],
   "source": [
    "print(\"the result was {r}\".format(r=result))"
   ]
  },
  {
   "cell_type": "code",
   "execution_count": 23,
   "id": "941166f6",
   "metadata": {},
   "outputs": [
    {
     "name": "stdout",
     "output_type": "stream",
     "text": [
      "the result was 0.113\n"
     ]
    }
   ],
   "source": [
    "print(\"the result was {r:1.3f}\".format(r=result))"
   ]
  },
  {
   "cell_type": "code",
   "execution_count": 24,
   "id": "5dcc381e",
   "metadata": {},
   "outputs": [
    {
     "name": "stdout",
     "output_type": "stream",
     "text": [
      "the result was 0.11261\n"
     ]
    }
   ],
   "source": [
    "print(\"the result was {r:5.5f}\".format(r=result))"
   ]
  },
  {
   "cell_type": "code",
   "execution_count": 25,
   "id": "20281d27",
   "metadata": {},
   "outputs": [],
   "source": [
    "name = \"Dilip\""
   ]
  },
  {
   "cell_type": "code",
   "execution_count": 29,
   "id": "751836c9",
   "metadata": {},
   "outputs": [
    {
     "name": "stdout",
     "output_type": "stream",
     "text": [
      "Hello , his name is Dilip\n"
     ]
    }
   ],
   "source": [
    "print(f\"Hello , his name is {name}\")"
   ]
  },
  {
   "cell_type": "code",
   "execution_count": null,
   "id": "a9bf07c2",
   "metadata": {},
   "outputs": [],
   "source": []
  },
  {
   "cell_type": "code",
   "execution_count": null,
   "id": "95636624",
   "metadata": {},
   "outputs": [],
   "source": []
  }
 ],
 "metadata": {
  "kernelspec": {
   "display_name": "Python 3 (ipykernel)",
   "language": "python",
   "name": "python3"
  },
  "language_info": {
   "codemirror_mode": {
    "name": "ipython",
    "version": 3
   },
   "file_extension": ".py",
   "mimetype": "text/x-python",
   "name": "python",
   "nbconvert_exporter": "python",
   "pygments_lexer": "ipython3",
   "version": "3.9.12"
  }
 },
 "nbformat": 4,
 "nbformat_minor": 5
}
