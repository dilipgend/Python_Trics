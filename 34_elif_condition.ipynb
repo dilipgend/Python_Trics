{
 "cells": [
  {
   "cell_type": "code",
   "execution_count": 1,
   "id": "2c6c1e3f",
   "metadata": {},
   "outputs": [
    {
     "name": "stdout",
     "output_type": "stream",
     "text": [
      "its true\n"
     ]
    }
   ],
   "source": [
    "if True:\n",
    "    print(\"its true\")"
   ]
  },
  {
   "cell_type": "code",
   "execution_count": 2,
   "id": "ebbcf279",
   "metadata": {},
   "outputs": [],
   "source": [
    "#IN python conditional statement of if and else using the check condition is true or false"
   ]
  },
  {
   "cell_type": "code",
   "execution_count": 3,
   "id": "20babc3f",
   "metadata": {},
   "outputs": [
    {
     "name": "stdout",
     "output_type": "stream",
     "text": [
      "I dont know\n"
     ]
    }
   ],
   "source": [
    "name = \"Tejas\"\n",
    "\n",
    "if name == \"Saurabh\":\n",
    "    print(\"Yes iam Saurabh\")\n",
    "elif name == \"Dilip\":\n",
    "    print(\"Ya I am Dilip\")\n",
    "else:\n",
    "    print(\"I dont know\")"
   ]
  },
  {
   "cell_type": "code",
   "execution_count": 4,
   "id": "8d52e349",
   "metadata": {},
   "outputs": [
    {
     "name": "stdout",
     "output_type": "stream",
     "text": [
      "Ya I am Dilip\n"
     ]
    }
   ],
   "source": [
    "name = \"Dilip\"\n",
    "\n",
    "if name == \"Saurabh\":\n",
    "    print(\"Yes iam Saurabh\")\n",
    "elif name == \"Dilip\":\n",
    "    print(\"Ya I am Dilip\")\n",
    "else:\n",
    "    print(\"I dont know\")"
   ]
  },
  {
   "cell_type": "code",
   "execution_count": 5,
   "id": "07704811",
   "metadata": {},
   "outputs": [
    {
     "name": "stdout",
     "output_type": "stream",
     "text": [
      "Yes iam Saurabh\n"
     ]
    }
   ],
   "source": [
    "name = \"Saurabh\"\n",
    "\n",
    "if name == \"Saurabh\":\n",
    "    print(\"Yes iam Saurabh\")\n",
    "elif name == \"Dilip\":\n",
    "    print(\"Ya I am Dilip\")\n",
    "else:\n",
    "    print(\"I dont know\")"
   ]
  },
  {
   "cell_type": "code",
   "execution_count": null,
   "id": "03223f65",
   "metadata": {},
   "outputs": [],
   "source": []
  },
  {
   "cell_type": "code",
   "execution_count": 6,
   "id": "d47800a5",
   "metadata": {},
   "outputs": [],
   "source": [
    "#Usre Input values"
   ]
  },
  {
   "cell_type": "code",
   "execution_count": 13,
   "id": "219b7a4f",
   "metadata": {},
   "outputs": [
    {
     "name": "stdout",
     "output_type": "stream",
     "text": [
      "Student name: Dilip\n",
      "Enter Mathematics Marks: 33\n",
      "Enter Biology Marks: 35\n",
      "Enter Pysics  Marks: 95\n",
      "EnterChemistry Marks: 85\n",
      "Enter English Marks: 74\n",
      "Enter Marathi Marks: 65\n",
      "Dilip is fail better luck  next time\n",
      "Dilip get Marks :  64.5 %\n"
     ]
    }
   ],
   "source": [
    "#students Marks\n",
    "Name = input(\"Student name: \")\n",
    "Mathematics = int(input(\"Enter Mathematics Marks: \"))\n",
    "Biology = int(input(\"Enter Biology Marks: \"))\n",
    "Pysics = int(input(\"Enter Pysics  Marks: \"))\n",
    "Chemistry = int(input(\"EnterChemistry Marks: \"))\n",
    "English = int(input(\"Enter English Marks: \"))\n",
    "Marathi = int(input(\"Enter Marathi Marks: \"))\n",
    "#Every paper passing arks is 40% and tatal marks is 50% \n",
    "Total = (Mathematics+Biology+Pysics+Chemistry+English+Marathi)/6\n",
    "#total marks is total percentage marks\n",
    "if(Mathematics>40 & Biology>40 & Pysics>40 & Chemistry>40 & English>40 & Marathi>40 & Total>50):\n",
    "    print(\"Congratulations\", Name,\",you are pass\")\n",
    "    \n",
    "else:\n",
    "    print(Name,\"is fail better luck  next time\")\n",
    "    \n",
    "print(Name,\"get Marks : \",Total,\"%\")"
   ]
  },
  {
   "cell_type": "code",
   "execution_count": null,
   "id": "4cb371b1",
   "metadata": {},
   "outputs": [],
   "source": []
  }
 ],
 "metadata": {
  "kernelspec": {
   "display_name": "Python 3 (ipykernel)",
   "language": "python",
   "name": "python3"
  },
  "language_info": {
   "codemirror_mode": {
    "name": "ipython",
    "version": 3
   },
   "file_extension": ".py",
   "mimetype": "text/x-python",
   "name": "python",
   "nbconvert_exporter": "python",
   "pygments_lexer": "ipython3",
   "version": "3.9.12"
  }
 },
 "nbformat": 4,
 "nbformat_minor": 5
}
