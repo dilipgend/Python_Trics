{
 "cells": [
  {
   "cell_type": "code",
   "execution_count": 9,
   "id": "1b3151c9",
   "metadata": {},
   "outputs": [],
   "source": [
    "class Account():\n",
    "    \n",
    "    \n",
    "    def __init__(self,owner,balance = 0):\n",
    "        self.owner = owner\n",
    "        self.balance = balance\n",
    "        \n",
    "    def deposit(self,dep_amt):\n",
    "        \n",
    "        self.balance = self.balance + dep_amt\n",
    "        print(f\"Added {dep_amt} to the balance\")\n",
    "        \n",
    "    def withdrawl(self,wd_amt):\n",
    "        if self.balance >= wd_amt:\n",
    "            self.balance = self.balance - wd_amt\n",
    "            print(\"withdrawal accepted\")\n",
    "            \n",
    "        else:\n",
    "            print(\"sorry no enough funds!\")\n",
    "            \n",
    "    def __str__(self):\n",
    "        return f\"Owner : {self.owner}\\nBalance:  {self.balance}\"\n",
    "    \n",
    "    \n",
    "     "
   ]
  },
  {
   "cell_type": "code",
   "execution_count": 18,
   "id": "e0aee35f",
   "metadata": {},
   "outputs": [],
   "source": [
    "a = Account(\"Dilip\",500)"
   ]
  },
  {
   "cell_type": "code",
   "execution_count": 19,
   "id": "298520c1",
   "metadata": {},
   "outputs": [
    {
     "data": {
      "text/plain": [
       "500"
      ]
     },
     "execution_count": 19,
     "metadata": {},
     "output_type": "execute_result"
    }
   ],
   "source": [
    "a.balance"
   ]
  },
  {
   "cell_type": "code",
   "execution_count": 20,
   "id": "20deff5d",
   "metadata": {},
   "outputs": [
    {
     "name": "stdout",
     "output_type": "stream",
     "text": [
      "Owner : Dilip\n",
      "Balance:  500\n"
     ]
    }
   ],
   "source": [
    "print(a)"
   ]
  },
  {
   "cell_type": "code",
   "execution_count": 21,
   "id": "bf6679d5",
   "metadata": {},
   "outputs": [
    {
     "name": "stdout",
     "output_type": "stream",
     "text": [
      "Added 200 to the balance\n"
     ]
    }
   ],
   "source": [
    "a.deposit(200)"
   ]
  },
  {
   "cell_type": "code",
   "execution_count": 22,
   "id": "40e9c630",
   "metadata": {},
   "outputs": [
    {
     "name": "stdout",
     "output_type": "stream",
     "text": [
      "Owner : Dilip\n",
      "Balance:  700\n"
     ]
    }
   ],
   "source": [
    "print(a)"
   ]
  },
  {
   "cell_type": "code",
   "execution_count": 23,
   "id": "90f3b08e",
   "metadata": {},
   "outputs": [
    {
     "name": "stdout",
     "output_type": "stream",
     "text": [
      "withdrawal accepted\n"
     ]
    }
   ],
   "source": [
    "a.withdrawl(400)"
   ]
  },
  {
   "cell_type": "code",
   "execution_count": 24,
   "id": "495c78bc",
   "metadata": {},
   "outputs": [
    {
     "name": "stdout",
     "output_type": "stream",
     "text": [
      "Owner : Dilip\n",
      "Balance:  300\n"
     ]
    }
   ],
   "source": [
    "print(a)"
   ]
  },
  {
   "cell_type": "code",
   "execution_count": 17,
   "id": "c84e85d9",
   "metadata": {},
   "outputs": [
    {
     "name": "stdout",
     "output_type": "stream",
     "text": [
      "sorry no enough funds!\n"
     ]
    }
   ],
   "source": [
    "a.withdrawl(1000)"
   ]
  },
  {
   "cell_type": "code",
   "execution_count": null,
   "id": "b1e233ad",
   "metadata": {},
   "outputs": [],
   "source": []
  }
 ],
 "metadata": {
  "kernelspec": {
   "display_name": "Python 3 (ipykernel)",
   "language": "python",
   "name": "python3"
  },
  "language_info": {
   "codemirror_mode": {
    "name": "ipython",
    "version": 3
   },
   "file_extension": ".py",
   "mimetype": "text/x-python",
   "name": "python",
   "nbconvert_exporter": "python",
   "pygments_lexer": "ipython3",
   "version": "3.9.12"
  }
 },
 "nbformat": 4,
 "nbformat_minor": 5
}
