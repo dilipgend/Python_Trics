{
 "cells": [
  {
   "cell_type": "code",
   "execution_count": 8,
   "id": "87e1aa2a",
   "metadata": {},
   "outputs": [],
   "source": [
    "list = [1,2,3,4,5,6,7,8,9]"
   ]
  },
  {
   "cell_type": "code",
   "execution_count": 9,
   "id": "0a5f390b",
   "metadata": {},
   "outputs": [
    {
     "name": "stdout",
     "output_type": "stream",
     "text": [
      "1\n",
      "even 2\n",
      "3\n",
      "even 4\n",
      "5\n",
      "even 6\n",
      "7\n",
      "even 8\n",
      "9\n"
     ]
    }
   ],
   "source": [
    "for num in list:\n",
    "    #print(num)\n",
    "    if num%2 ==1:\n",
    "        print(num)\n",
    "    else:\n",
    "        print(\"even\",num)"
   ]
  },
  {
   "cell_type": "code",
   "execution_count": 28,
   "id": "36d46e34",
   "metadata": {},
   "outputs": [
    {
     "name": "stdout",
     "output_type": "stream",
     "text": [
      "55\n"
     ]
    }
   ],
   "source": [
    "#sum of first 10 numbers\n",
    "sum = 0\n",
    "for num in range(1,11):\n",
    "    sum = sum+num\n",
    "print(sum)"
   ]
  },
  {
   "cell_type": "code",
   "execution_count": 29,
   "id": "73b4d595",
   "metadata": {},
   "outputs": [
    {
     "name": "stdout",
     "output_type": "stream",
     "text": [
      "155\n"
     ]
    }
   ],
   "source": [
    "#sum of 11 to 20 numbers\n",
    "sum = 0\n",
    "for num in range(11,21):\n",
    "    sum = sum+num\n",
    "print(sum)"
   ]
  },
  {
   "cell_type": "code",
   "execution_count": 30,
   "id": "4fa0b8af",
   "metadata": {},
   "outputs": [],
   "source": [
    "a = [(1,2,3),(2,3,4),(3,4,5),(4,5,6),(5,6,7)]"
   ]
  },
  {
   "cell_type": "code",
   "execution_count": 31,
   "id": "8282b0a0",
   "metadata": {},
   "outputs": [
    {
     "data": {
      "text/plain": [
       "5"
      ]
     },
     "execution_count": 31,
     "metadata": {},
     "output_type": "execute_result"
    }
   ],
   "source": [
    "len(a)"
   ]
  },
  {
   "cell_type": "code",
   "execution_count": 32,
   "id": "19db09d7",
   "metadata": {},
   "outputs": [
    {
     "name": "stdout",
     "output_type": "stream",
     "text": [
      "(1, 2, 3)\n",
      "(2, 3, 4)\n",
      "(3, 4, 5)\n",
      "(4, 5, 6)\n",
      "(5, 6, 7)\n"
     ]
    }
   ],
   "source": [
    "for item in a:\n",
    "    print(item)"
   ]
  },
  {
   "cell_type": "code",
   "execution_count": null,
   "id": "49030f88",
   "metadata": {},
   "outputs": [],
   "source": []
  },
  {
   "cell_type": "code",
   "execution_count": null,
   "id": "c19b515d",
   "metadata": {},
   "outputs": [],
   "source": []
  },
  {
   "cell_type": "code",
   "execution_count": null,
   "id": "ab6eb1fa",
   "metadata": {},
   "outputs": [],
   "source": [
    "\n"
   ]
  },
  {
   "cell_type": "code",
   "execution_count": null,
   "id": "6c8a81cb",
   "metadata": {},
   "outputs": [],
   "source": []
  }
 ],
 "metadata": {
  "kernelspec": {
   "display_name": "Python 3 (ipykernel)",
   "language": "python",
   "name": "python3"
  },
  "language_info": {
   "codemirror_mode": {
    "name": "ipython",
    "version": 3
   },
   "file_extension": ".py",
   "mimetype": "text/x-python",
   "name": "python",
   "nbconvert_exporter": "python",
   "pygments_lexer": "ipython3",
   "version": "3.9.12"
  }
 },
 "nbformat": 4,
 "nbformat_minor": 5
}
