{
 "cells": [
  {
   "cell_type": "code",
   "execution_count": 4,
   "id": "76b33920",
   "metadata": {},
   "outputs": [],
   "source": [
    "marks= [(\"dilip\",87),(\"saurabh\",70),(\"Tjas\",60)]"
   ]
  },
  {
   "cell_type": "code",
   "execution_count": 6,
   "id": "b6271e4c",
   "metadata": {},
   "outputs": [
    {
     "name": "stdout",
     "output_type": "stream",
     "text": [
      "('dilip', 87)\n",
      "('saurabh', 70)\n",
      "('Tjas', 60)\n"
     ]
    }
   ],
   "source": [
    "for item in marks:\n",
    "    \n",
    "    print(item)"
   ]
  },
  {
   "cell_type": "code",
   "execution_count": 10,
   "id": "15f26137",
   "metadata": {},
   "outputs": [
    {
     "name": "stdout",
     "output_type": "stream",
     "text": [
      "dilip\n",
      "87\n",
      "95.7\n",
      "saurabh\n",
      "70\n",
      "77.0\n",
      "Tjas\n",
      "60\n",
      "66.0\n"
     ]
    }
   ],
   "source": [
    "for ticker,price in marks:\n",
    "    print(ticker)\n",
    "    print(price)\n",
    "    print(price+(0.1*price))"
   ]
  },
  {
   "cell_type": "code",
   "execution_count": 11,
   "id": "b920a7f9",
   "metadata": {},
   "outputs": [],
   "source": [
    "marks= [(\"dilip\",87),(\"saurabh\",70),(\"Tjas\",60)]"
   ]
  },
  {
   "cell_type": "code",
   "execution_count": 16,
   "id": "64bdf08d",
   "metadata": {},
   "outputs": [],
   "source": [
    "def student_marks(marks):\n",
    "    \n",
    "    current_max = 0\n",
    "    student_of_year = \"\"\n",
    "    \n",
    "    for student,marks in marks:\n",
    "        if marks > current_max:\n",
    "            current_max = marks\n",
    "            student_of_year = student\n",
    "            \n",
    "        else:\n",
    "            pass\n",
    "    return (student_of_year,current_max)"
   ]
  },
  {
   "cell_type": "code",
   "execution_count": 17,
   "id": "ce2221ee",
   "metadata": {},
   "outputs": [
    {
     "data": {
      "text/plain": [
       "('dilip', 87)"
      ]
     },
     "execution_count": 17,
     "metadata": {},
     "output_type": "execute_result"
    }
   ],
   "source": [
    "student_marks(marks)"
   ]
  },
  {
   "cell_type": "code",
   "execution_count": null,
   "id": "ff0b5f64",
   "metadata": {},
   "outputs": [],
   "source": []
  }
 ],
 "metadata": {
  "kernelspec": {
   "display_name": "Python 3 (ipykernel)",
   "language": "python",
   "name": "python3"
  },
  "language_info": {
   "codemirror_mode": {
    "name": "ipython",
    "version": 3
   },
   "file_extension": ".py",
   "mimetype": "text/x-python",
   "name": "python",
   "nbconvert_exporter": "python",
   "pygments_lexer": "ipython3",
   "version": "3.9.12"
  }
 },
 "nbformat": 4,
 "nbformat_minor": 5
}
