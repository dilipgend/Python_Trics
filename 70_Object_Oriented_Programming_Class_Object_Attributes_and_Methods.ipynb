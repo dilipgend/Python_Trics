{
 "cells": [
  {
   "cell_type": "code",
   "execution_count": 20,
   "id": "735ef90a",
   "metadata": {},
   "outputs": [],
   "source": [
    "class Dog():\n",
    "    \n",
    "    species = 'mammal'\n",
    "    \n",
    "    def __init__(self,breed,name,spots):\n",
    "        \n",
    "        \n",
    "        \n",
    "        self.breed = breed\n",
    "        self.name = name\n",
    "        \n",
    "        self.spots = spots\n",
    "    \n",
    "  "
   ]
  },
  {
   "cell_type": "code",
   "execution_count": 21,
   "id": "1e1e05dd",
   "metadata": {},
   "outputs": [],
   "source": [
    "my_dog = Dog(breed = 'Lab',name = 'Sam',spots = 'False')"
   ]
  },
  {
   "cell_type": "code",
   "execution_count": 22,
   "id": "82c24b8f",
   "metadata": {},
   "outputs": [
    {
     "data": {
      "text/plain": [
       "__main__.Dog"
      ]
     },
     "execution_count": 22,
     "metadata": {},
     "output_type": "execute_result"
    }
   ],
   "source": [
    "type(my_dog)"
   ]
  },
  {
   "cell_type": "code",
   "execution_count": 23,
   "id": "a5068bd4",
   "metadata": {},
   "outputs": [
    {
     "data": {
      "text/plain": [
       "'Lab'"
      ]
     },
     "execution_count": 23,
     "metadata": {},
     "output_type": "execute_result"
    }
   ],
   "source": [
    "my_dog.breed"
   ]
  },
  {
   "cell_type": "code",
   "execution_count": 24,
   "id": "ee61eec7",
   "metadata": {},
   "outputs": [
    {
     "data": {
      "text/plain": [
       "'Sam'"
      ]
     },
     "execution_count": 24,
     "metadata": {},
     "output_type": "execute_result"
    }
   ],
   "source": [
    "my_dog.name"
   ]
  },
  {
   "cell_type": "code",
   "execution_count": 25,
   "id": "518ffda8",
   "metadata": {},
   "outputs": [
    {
     "data": {
      "text/plain": [
       "'False'"
      ]
     },
     "execution_count": 25,
     "metadata": {},
     "output_type": "execute_result"
    }
   ],
   "source": [
    "my_dog.spots"
   ]
  },
  {
   "cell_type": "code",
   "execution_count": null,
   "id": "bb0f3354",
   "metadata": {},
   "outputs": [],
   "source": []
  },
  {
   "cell_type": "code",
   "execution_count": null,
   "id": "cd1a42b8",
   "metadata": {},
   "outputs": [],
   "source": []
  },
  {
   "cell_type": "code",
   "execution_count": 30,
   "id": "0a977dd5",
   "metadata": {},
   "outputs": [],
   "source": [
    "class Dog():\n",
    "    \n",
    "    species = 'mammal'\n",
    "    \n",
    "    def __init__(self,breed,name,spots,college):\n",
    "        \n",
    "        \n",
    "        \n",
    "        self.breed = breed\n",
    "        self.name = name\n",
    "        self.college = college\n",
    "        self.spots = spots\n",
    "    \n",
    "    def bark(self):\n",
    "        print(\"WOOF!\")"
   ]
  },
  {
   "cell_type": "code",
   "execution_count": 33,
   "id": "9cef0687",
   "metadata": {},
   "outputs": [],
   "source": [
    "my_dog = Dog('Lab','Sam','Jss','False')"
   ]
  },
  {
   "cell_type": "code",
   "execution_count": 34,
   "id": "08a89f52",
   "metadata": {},
   "outputs": [
    {
     "data": {
      "text/plain": [
       "'Lab'"
      ]
     },
     "execution_count": 34,
     "metadata": {},
     "output_type": "execute_result"
    }
   ],
   "source": [
    "my_dog.breed"
   ]
  },
  {
   "cell_type": "code",
   "execution_count": 35,
   "id": "67e0b8fa",
   "metadata": {},
   "outputs": [
    {
     "data": {
      "text/plain": [
       "'Sam'"
      ]
     },
     "execution_count": 35,
     "metadata": {},
     "output_type": "execute_result"
    }
   ],
   "source": [
    "my_dog.name"
   ]
  },
  {
   "cell_type": "code",
   "execution_count": 36,
   "id": "7123289a",
   "metadata": {},
   "outputs": [
    {
     "data": {
      "text/plain": [
       "'False'"
      ]
     },
     "execution_count": 36,
     "metadata": {},
     "output_type": "execute_result"
    }
   ],
   "source": [
    "my_dog.college"
   ]
  },
  {
   "cell_type": "code",
   "execution_count": 37,
   "id": "905ea28a",
   "metadata": {},
   "outputs": [
    {
     "data": {
      "text/plain": [
       "'Jss'"
      ]
     },
     "execution_count": 37,
     "metadata": {},
     "output_type": "execute_result"
    }
   ],
   "source": [
    "my_dog.spots"
   ]
  },
  {
   "cell_type": "code",
   "execution_count": 39,
   "id": "3cb0e682",
   "metadata": {},
   "outputs": [
    {
     "name": "stdout",
     "output_type": "stream",
     "text": [
      "WOOF!\n"
     ]
    }
   ],
   "source": [
    "my_dog.bark()"
   ]
  },
  {
   "cell_type": "code",
   "execution_count": null,
   "id": "ad65142f",
   "metadata": {},
   "outputs": [],
   "source": []
  },
  {
   "cell_type": "code",
   "execution_count": null,
   "id": "90ab215d",
   "metadata": {},
   "outputs": [],
   "source": []
  },
  {
   "cell_type": "code",
   "execution_count": null,
   "id": "4844149b",
   "metadata": {},
   "outputs": [],
   "source": []
  },
  {
   "cell_type": "code",
   "execution_count": 57,
   "id": "47b74e17",
   "metadata": {},
   "outputs": [],
   "source": [
    "class circle():\n",
    "    \n",
    "    pi = 22/7\n",
    "    \n",
    "    def __init__(self,radius=30):\n",
    "        \n",
    "        self.radius = radius\n",
    "        \n",
    "        \n",
    "    def get_circumference(self):\n",
    "            return self.radius * self.pi *2"
   ]
  },
  {
   "cell_type": "code",
   "execution_count": 58,
   "id": "262994ac",
   "metadata": {},
   "outputs": [],
   "source": [
    "mycircle = circle()"
   ]
  },
  {
   "cell_type": "code",
   "execution_count": 59,
   "id": "266d99ea",
   "metadata": {},
   "outputs": [
    {
     "data": {
      "text/plain": [
       "3.142857142857143"
      ]
     },
     "execution_count": 59,
     "metadata": {},
     "output_type": "execute_result"
    }
   ],
   "source": [
    "mycircle.pi"
   ]
  },
  {
   "cell_type": "code",
   "execution_count": 60,
   "id": "174ac03d",
   "metadata": {},
   "outputs": [
    {
     "data": {
      "text/plain": [
       "<bound method circle.get_circumference of <__main__.circle object at 0x00000237EC481B50>>"
      ]
     },
     "execution_count": 60,
     "metadata": {},
     "output_type": "execute_result"
    }
   ],
   "source": [
    "mycircle.get_circumference"
   ]
  },
  {
   "cell_type": "code",
   "execution_count": 61,
   "id": "ffc41346",
   "metadata": {},
   "outputs": [
    {
     "data": {
      "text/plain": [
       "188.57142857142856"
      ]
     },
     "execution_count": 61,
     "metadata": {},
     "output_type": "execute_result"
    }
   ],
   "source": [
    "mycircle.get_circumference()"
   ]
  },
  {
   "cell_type": "code",
   "execution_count": null,
   "id": "a719fd7b",
   "metadata": {},
   "outputs": [],
   "source": []
  }
 ],
 "metadata": {
  "kernelspec": {
   "display_name": "Python 3 (ipykernel)",
   "language": "python",
   "name": "python3"
  },
  "language_info": {
   "codemirror_mode": {
    "name": "ipython",
    "version": 3
   },
   "file_extension": ".py",
   "mimetype": "text/x-python",
   "name": "python",
   "nbconvert_exporter": "python",
   "pygments_lexer": "ipython3",
   "version": "3.9.12"
  }
 },
 "nbformat": 4,
 "nbformat_minor": 5
}
