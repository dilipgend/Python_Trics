{
 "cells": [
  {
   "cell_type": "code",
   "execution_count": 16,
   "id": "206d3136",
   "metadata": {},
   "outputs": [],
   "source": [
    "class Line:\n",
    "    \n",
    "    def __init__(self,coordinate1,coordinate2):\n",
    "        \n",
    "        self.coordinate1 = coordinate1\n",
    "        self.coordinate2 = coordinate2\n",
    "    \n",
    "    def distance(self):\n",
    "        \n",
    "        x1,y1 = self.coordinate1\n",
    "        x2,y2 = self.coordinate2\n",
    "        \n",
    "        return ((x2-x1)**2+(y2-y1)**2)**0.5\n",
    "        \n",
    "    \n",
    "    def slope(self):\n",
    "        x1,y1 = self.coordinate1\n",
    "        x2,y2 = self.coordinate2\n",
    "        \n",
    "        return (y2-y1)/(x2-x1)\n",
    "        "
   ]
  },
  {
   "cell_type": "code",
   "execution_count": 17,
   "id": "f9ae0f21",
   "metadata": {},
   "outputs": [],
   "source": [
    "coordinate1 = (3,2)\n",
    "coordinate2 = (8,10)\n",
    "\n",
    "li = Line(coordinate1,coordinate2)"
   ]
  },
  {
   "cell_type": "code",
   "execution_count": 18,
   "id": "6e56811d",
   "metadata": {},
   "outputs": [
    {
     "data": {
      "text/plain": [
       "9.433981132056603"
      ]
     },
     "execution_count": 18,
     "metadata": {},
     "output_type": "execute_result"
    }
   ],
   "source": [
    "li.distance()"
   ]
  },
  {
   "cell_type": "code",
   "execution_count": 19,
   "id": "f6a650c2",
   "metadata": {},
   "outputs": [
    {
     "data": {
      "text/plain": [
       "1.6"
      ]
     },
     "execution_count": 19,
     "metadata": {},
     "output_type": "execute_result"
    }
   ],
   "source": [
    "li.slope()"
   ]
  },
  {
   "cell_type": "code",
   "execution_count": null,
   "id": "affdafaa",
   "metadata": {},
   "outputs": [],
   "source": []
  },
  {
   "cell_type": "code",
   "execution_count": null,
   "id": "7b8ba69e",
   "metadata": {},
   "outputs": [],
   "source": []
  },
  {
   "cell_type": "code",
   "execution_count": null,
   "id": "0186bd0a",
   "metadata": {},
   "outputs": [],
   "source": []
  },
  {
   "cell_type": "code",
   "execution_count": 20,
   "id": "d412ee4e",
   "metadata": {},
   "outputs": [],
   "source": [
    "class cylinder():\n",
    "    \n",
    "    def __init__(self,height =1,radius=1):\n",
    "        \n",
    "        self.height = height\n",
    "        self.radius = radius\n",
    "        \n",
    "    def volume(self):\n",
    "        return self.height * 3.14 * (self.radius)**2\n",
    "    \n",
    "    def Surface_area(self):\n",
    "        \n",
    "        top = 3.14 * (self.radius)**2\n",
    "        \n",
    "        return (2*top) + (2*3.14*self.radius*self.height)"
   ]
  },
  {
   "cell_type": "code",
   "execution_count": 21,
   "id": "f55aa7ec",
   "metadata": {},
   "outputs": [],
   "source": [
    "mycyl = cylinder(2,3)"
   ]
  },
  {
   "cell_type": "code",
   "execution_count": 22,
   "id": "c546b0b6",
   "metadata": {},
   "outputs": [
    {
     "data": {
      "text/plain": [
       "25.12"
      ]
     },
     "execution_count": 22,
     "metadata": {},
     "output_type": "execute_result"
    }
   ],
   "source": [
    "mycyl.volume()"
   ]
  },
  {
   "cell_type": "code",
   "execution_count": null,
   "id": "2ce94d5f",
   "metadata": {},
   "outputs": [],
   "source": []
  }
 ],
 "metadata": {
  "kernelspec": {
   "display_name": "Python 3 (ipykernel)",
   "language": "python",
   "name": "python3"
  },
  "language_info": {
   "codemirror_mode": {
    "name": "ipython",
    "version": 3
   },
   "file_extension": ".py",
   "mimetype": "text/x-python",
   "name": "python",
   "nbconvert_exporter": "python",
   "pygments_lexer": "ipython3",
   "version": "3.9.12"
  }
 },
 "nbformat": 4,
 "nbformat_minor": 5
}
