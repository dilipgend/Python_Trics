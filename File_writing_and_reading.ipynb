{
 "cells": [
  {
   "cell_type": "code",
   "execution_count": 1,
   "id": "85a14b79",
   "metadata": {},
   "outputs": [],
   "source": [
    "f = open('fileone.txt','w')\n",
    "f.write(\"one file\")\n",
    "f.close()"
   ]
  },
  {
   "cell_type": "code",
   "execution_count": 2,
   "id": "e1a1c772",
   "metadata": {},
   "outputs": [],
   "source": [
    "f = open('filetwo.txt','w')\n",
    "f.write(\"two file\")\n",
    "f.close()"
   ]
  },
  {
   "cell_type": "code",
   "execution_count": 6,
   "id": "15a97caa",
   "metadata": {},
   "outputs": [],
   "source": [
    "import zipfile"
   ]
  },
  {
   "cell_type": "code",
   "execution_count": 9,
   "id": "db5df8ce",
   "metadata": {},
   "outputs": [],
   "source": [
    "comp_file = zipfile.ZipFile(\"comp_file.zip\",'w')"
   ]
  },
  {
   "cell_type": "code",
   "execution_count": 10,
   "id": "151c3b88",
   "metadata": {},
   "outputs": [],
   "source": [
    "comp_file.write(\"fileone.txt\",compress_type = zipfile.ZIP_DEFLATED)"
   ]
  },
  {
   "cell_type": "code",
   "execution_count": 11,
   "id": "d0906824",
   "metadata": {},
   "outputs": [],
   "source": [
    "comp_file.write(\"filetwo.txt\",compress_type = zipfile.ZIP_DEFLATED)"
   ]
  },
  {
   "cell_type": "code",
   "execution_count": 12,
   "id": "faca0de4",
   "metadata": {},
   "outputs": [],
   "source": [
    "comp_file.close()"
   ]
  },
  {
   "cell_type": "code",
   "execution_count": 13,
   "id": "1bb81c9a",
   "metadata": {},
   "outputs": [],
   "source": [
    "zip_obj = zipfile.ZipFile(\"comp_file.zip\",\"r\")"
   ]
  },
  {
   "cell_type": "code",
   "execution_count": 14,
   "id": "d68b1736",
   "metadata": {},
   "outputs": [],
   "source": [
    "zip_obj.extractall(\"extracted_content\")"
   ]
  },
  {
   "cell_type": "code",
   "execution_count": 15,
   "id": "b9efa327",
   "metadata": {},
   "outputs": [
    {
     "data": {
      "text/plain": [
       "'C:\\\\Users\\\\DILIP DASHARATH'"
      ]
     },
     "execution_count": 15,
     "metadata": {},
     "output_type": "execute_result"
    }
   ],
   "source": [
    "pwd"
   ]
  },
  {
   "cell_type": "code",
   "execution_count": 16,
   "id": "a3b4ab24",
   "metadata": {},
   "outputs": [],
   "source": [
    "import shutil"
   ]
  },
  {
   "cell_type": "code",
   "execution_count": 17,
   "id": "df3bc014",
   "metadata": {},
   "outputs": [],
   "source": [
    "dir_to_zip = 'C:\\\\Users\\\\DILIP DASHARATH\\\\extracted_content'"
   ]
  },
  {
   "cell_type": "code",
   "execution_count": 18,
   "id": "51e1d37b",
   "metadata": {},
   "outputs": [],
   "source": [
    "output_filename = \"example\""
   ]
  },
  {
   "cell_type": "code",
   "execution_count": 20,
   "id": "bfd8f4f6",
   "metadata": {},
   "outputs": [
    {
     "data": {
      "text/plain": [
       "'C:\\\\Users\\\\DILIP DASHARATH\\\\example.zip'"
      ]
     },
     "execution_count": 20,
     "metadata": {},
     "output_type": "execute_result"
    }
   ],
   "source": [
    "shutil.make_archive(output_filename,\"zip\",dir_to_zip)"
   ]
  },
  {
   "cell_type": "code",
   "execution_count": 21,
   "id": "83d18eb8",
   "metadata": {},
   "outputs": [],
   "source": [
    "shutil.unpack_archive(\"example.zip\",\"final_unzip\",\"zip\")"
   ]
  },
  {
   "cell_type": "code",
   "execution_count": null,
   "id": "748a7175",
   "metadata": {},
   "outputs": [],
   "source": []
  }
 ],
 "metadata": {
  "kernelspec": {
   "display_name": "Python 3 (ipykernel)",
   "language": "python",
   "name": "python3"
  },
  "language_info": {
   "codemirror_mode": {
    "name": "ipython",
    "version": 3
   },
   "file_extension": ".py",
   "mimetype": "text/x-python",
   "name": "python",
   "nbconvert_exporter": "python",
   "pygments_lexer": "ipython3",
   "version": "3.9.12"
  }
 },
 "nbformat": 4,
 "nbformat_minor": 5
}
