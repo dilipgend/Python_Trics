{
 "cells": [
  {
   "cell_type": "code",
   "execution_count": 8,
   "id": "ec526a00",
   "metadata": {},
   "outputs": [],
   "source": [
    "class Simple():\n",
    "    \n",
    "    def __init__(self,value):\n",
    "        self.value = value\n",
    "        \n",
    "    def add_to_value(self,amount):\n",
    "        \n",
    "        self.value = self.value + amount\n",
    "        print(\"we just added {} to your value\".format(amount))\n",
    "        "
   ]
  },
  {
   "cell_type": "code",
   "execution_count": 9,
   "id": "fe5a1ecc",
   "metadata": {},
   "outputs": [],
   "source": [
    "myobj = Simple(300)"
   ]
  },
  {
   "cell_type": "code",
   "execution_count": 10,
   "id": "6a5d4c97",
   "metadata": {},
   "outputs": [
    {
     "data": {
      "text/plain": [
       "300"
      ]
     },
     "execution_count": 10,
     "metadata": {},
     "output_type": "execute_result"
    }
   ],
   "source": [
    "myobj.value"
   ]
  },
  {
   "cell_type": "code",
   "execution_count": null,
   "id": "3287167e",
   "metadata": {},
   "outputs": [],
   "source": []
  },
  {
   "cell_type": "code",
   "execution_count": 11,
   "id": "af8a5431",
   "metadata": {},
   "outputs": [
    {
     "name": "stdout",
     "output_type": "stream",
     "text": [
      "we just added 300 to your value\n"
     ]
    }
   ],
   "source": [
    "myobj.add_to_value(300)"
   ]
  },
  {
   "cell_type": "code",
   "execution_count": 12,
   "id": "2e83eee0",
   "metadata": {},
   "outputs": [
    {
     "data": {
      "text/plain": [
       "600"
      ]
     },
     "execution_count": 12,
     "metadata": {},
     "output_type": "execute_result"
    }
   ],
   "source": [
    "myobj.value"
   ]
  },
  {
   "cell_type": "code",
   "execution_count": null,
   "id": "a8178fd0",
   "metadata": {},
   "outputs": [],
   "source": []
  }
 ],
 "metadata": {
  "kernelspec": {
   "display_name": "Python 3 (ipykernel)",
   "language": "python",
   "name": "python3"
  },
  "language_info": {
   "codemirror_mode": {
    "name": "ipython",
    "version": 3
   },
   "file_extension": ".py",
   "mimetype": "text/x-python",
   "name": "python",
   "nbconvert_exporter": "python",
   "pygments_lexer": "ipython3",
   "version": "3.9.12"
  }
 },
 "nbformat": 4,
 "nbformat_minor": 5
}
